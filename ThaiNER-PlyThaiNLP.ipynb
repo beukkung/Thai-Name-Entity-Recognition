{
  "cells": [
    {
      "cell_type": "code",
      "execution_count": null,
      "metadata": {
        "id": "OMpyynDqBeqJ"
      },
      "outputs": [],
      "source": [
        "import os\n",
        "import numpy as np\n",
        "import pandas as pd\n",
        "from tqdm import tqdm\n",
        "\n",
        "!pip install  pythainlp==3.0.3\n",
        "from pythainlp.tag.named_entity import ThaiNameTagger"
      ]
    },
    {
      "cell_type": "markdown",
      "metadata": {},
      "source": [
        "Import your test data"
      ]
    },
    {
      "cell_type": "code",
      "execution_count": null,
      "metadata": {
        "id": "xY6RnAinM5lK"
      },
      "outputs": [],
      "source": [
        "with open('ne_test.txt') as f:\n",
        "    contents = f.read()\n",
        "words = contents.split(\"\\n\")\n",
        "wordss = words[:69561]   #deleted 2 last spaces\n",
        "\n",
        "wordsss = np.array(wordss)\n",
        "word_list = list(wordsss[0:])\n",
        "\n",
        "index = 0\n",
        "for word in word_list :\n",
        "    if word == '' : word_list[index] = ' '\n",
        "    index += 1"
      ]
    },
    {
      "cell_type": "code",
      "execution_count": null,
      "metadata": {
        "colab": {
          "base_uri": "https://localhost:8080/"
        },
        "id": "MVA4vhmZnl5L",
        "outputId": "f175b658-6fa8-4c90-810e-a059347b1050"
      },
      "outputs": [
        {
          "data": {
            "text/plain": [
              "['นาง',\n",
              " 'สุดารัตน์',\n",
              " ' ',\n",
              " 'เกยุราพันธ์',\n",
              " ' ',\n",
              " 'รมว.',\n",
              " 'สาธารณสุข',\n",
              " ' ',\n",
              " 'แถลง',\n",
              " 'ถึง']"
            ]
          },
          "execution_count": 6,
          "metadata": {},
          "output_type": "execute_result"
        }
      ],
      "source": [
        "word_list[0:10]"
      ]
    },
    {
      "cell_type": "code",
      "execution_count": null,
      "metadata": {
        "id": "x6xP2b66O2WG"
      },
      "outputs": [],
      "source": [
        "predictions=[]\n",
        "for i in tqdm(range(0,69562)):\n",
        "ner = ThaiNameTagger()\n",
        "predictions_cache = ner.get_ner(list(word_list), pos=False)\n",
        "  if len(predictions_cache) > 1 : \n",
        "    predictions.append(predictions_cache[0])\n",
        "  else:\n",
        "    predictions.append(predictions_cache[0])"
      ]
    },
    {
      "cell_type": "code",
      "execution_count": null,
      "metadata": {
        "colab": {
          "base_uri": "https://localhost:8080/"
        },
        "id": "BJsn7jBkk3i7",
        "outputId": "90874022-5985-48df-a430-a289d1b981c9"
      },
      "outputs": [
        {
          "data": {
            "text/plain": [
              "[('24', 'O'),\n",
              " (' ', 'O'),\n",
              " ('มิ.ย.', 'O'),\n",
              " (' ', 'O'),\n",
              " ('2563', 'O'),\n",
              " (' ', 'O'),\n",
              " ('ทดสอบ', 'O'),\n",
              " ('ระบบ', 'O'),\n",
              " ('เวลา', 'O'),\n",
              " (' ', 'O'),\n",
              " ('6', 'B-TIME'),\n",
              " (':', 'I-TIME'),\n",
              " ('00', 'I-TIME'),\n",
              " (' ', 'I-TIME'),\n",
              " ('น.', 'I-TIME'),\n",
              " (' ', 'O'),\n",
              " ('เดินทาง', 'O'),\n",
              " ('จาก', 'O'),\n",
              " ('ขนส่ง', 'B-ORGANIZATION'),\n",
              " ('กรุงเทพ', 'I-ORGANIZATION'),\n",
              " ('ใกล้', 'O'),\n",
              " ('ถนน', 'B-LOCATION'),\n",
              " ('กำแพงเพชร', 'I-LOCATION'),\n",
              " (' ', 'O'),\n",
              " ('ไป', 'O'),\n",
              " ('จังหวัด', 'B-LOCATION'),\n",
              " ('กำแพงเพชร', 'I-LOCATION'),\n",
              " (' ', 'O'),\n",
              " ('ตั๋ว', 'O'),\n",
              " ('ราคา', 'O'),\n",
              " (' ', 'O'),\n",
              " ('297', 'B-MONEY'),\n",
              " (' ', 'I-MONEY'),\n",
              " ('บาท', 'I-MONEY')]"
            ]
          },
          "execution_count": 45,
          "metadata": {},
          "output_type": "execute_result"
        }
      ],
      "source": [
        "predictions_cache"
      ]
    },
    {
      "cell_type": "code",
      "execution_count": null,
      "metadata": {
        "id": "2oHg43HuipVm"
      },
      "outputs": [],
      "source": [
        "testdfdfdf2=pd.DataFrame(predictions)\n",
        "test123456 = testdfdfdf2[1]\n",
        "test123456.to_csv('test.csv')"
      ]
    },
    {
      "cell_type": "markdown",
      "metadata": {
        "id": "QG5ts1BANkC6"
      },
      "source": [
        "submission"
      ]
    }
  ],
  "metadata": {
    "colab": {
      "collapsed_sections": [],
      "name": "Task3_Named_entry_with_plythaiNLP_rev2.ipynb",
      "provenance": []
    },
    "kernelspec": {
      "display_name": "Python 3",
      "name": "python3"
    },
    "language_info": {
      "name": "python"
    }
  },
  "nbformat": 4,
  "nbformat_minor": 0
}
