{
  "cells": [
    {
      "cell_type": "markdown",
      "metadata": {
        "id": "sHrlITUWV95S"
      },
      "source": [
        "# Load data"
      ]
    },
    {
      "cell_type": "code",
      "execution_count": null,
      "metadata": {},
      "outputs": [],
      "source": [
        "##Some Code to import your corpus"
      ]
    },
    {
      "cell_type": "markdown",
      "metadata": {
        "id": "cC-ZgjhbWIg5"
      },
      "source": [
        "# Import"
      ]
    },
    {
      "cell_type": "code",
      "execution_count": null,
      "metadata": {
        "id": "zH3IWnAlrsHL"
      },
      "outputs": [],
      "source": [
        "import pandas as pd\n",
        "import tensorflow as tf\n",
        "import numpy as np\n",
        "import os\n",
        "from sklearn.model_selection import train_test_split"
      ]
    },
    {
      "cell_type": "markdown",
      "metadata": {
        "id": "3j1UttloWF_B"
      },
      "source": [
        "# Preprocess"
      ]
    },
    {
      "cell_type": "markdown",
      "metadata": {
        "id": "vnmR7B9nWPKZ"
      },
      "source": [
        "## data Lst20"
      ]
    },
    {
      "cell_type": "code",
      "execution_count": null,
      "metadata": {
        "id": "2VGNBBo3f4FQ"
      },
      "outputs": [],
      "source": [
        "path = '/content/'\n",
        "wordss = []\n",
        "poss = []\n",
        "counter = 0\n",
        "word = []\n",
        "pos = []\n",
        "for dir in sorted(os.listdir(path)):\n",
        "    if dir != \".DS_Store\" and dir.startswith('T'):\n",
        "      f = open(os.path.join(path,dir), \"r\")\n",
        "      for i in f :\n",
        "        if len(i.split()) == 0 :\n",
        "          wordss.append(word)\n",
        "          poss.append(pos)\n",
        "          word = []\n",
        "          pos = []\n",
        "          continue\n",
        "        word.append(i.split(\"\\t\")[0])\n",
        "        pos.append(i.split(\"\\t\")[2])"
      ]
    },
    {
      "cell_type": "code",
      "execution_count": null,
      "metadata": {
        "id": "3hdekD1F_32L"
      },
      "outputs": [],
      "source": [
        "wordss = list(filter(lambda x: len(x) <= 150, wordss))\n",
        "poss=list(filter(lambda x: len(x) <= 150, poss))"
      ]
    },
    {
      "cell_type": "markdown",
      "metadata": {},
      "source": [
        "Split train/test data and preprocessing data"
      ]
    },
    {
      "cell_type": "code",
      "execution_count": null,
      "metadata": {
        "id": "tTGat3j83Q71"
      },
      "outputs": [],
      "source": [
        "\n",
        "(train_sentences, test_sentences, train_tags, test_tags) = train_test_split(wordss, poss, test_size=0.2)\n",
        "\n",
        "tags=['B_BRN', 'B_DES', 'B_DTM', 'B_LOC', 'B_MEA', 'B_NUM', 'B_ORG', 'B_PER', \n",
        "      'B_TRM', 'B_TTL', 'E_BRN', 'E_DES', 'E_DTM', 'E_LOC', 'E_MEA', 'E_NUM', \n",
        "      'E_ORG', 'E_PER', 'E_TRM', 'E_TTL', 'I_BRN', 'I_DES', 'I_DTM', 'I_LOC', \n",
        "      'I_MEA', 'I_NUM', 'I_ORG', 'I_PER', 'I_TRM', 'I_TTL', 'O']\n",
        "\n",
        "for ts in range(len(poss)):\n",
        "  if poss[ts]=='ORG_I':\n",
        "    poss[ts]='I_ORG'\n",
        "\n",
        "  elif poss[ts]=='LOC_I':\n",
        "    poss[ts]='I_LOC'\n",
        "\n",
        "  elif poss[ts]=='PER_I':\n",
        "    poss[ts]='I_PER'\n",
        "\n",
        "  elif poss[ts] not in tags:\n",
        "    poss[ts]='O'\n",
        "for s in range(len(wordss)) :\n",
        "    for w in range(len(wordss[s])):\n",
        "        try:\n",
        "          a=float(wordss[s][w]) +1\n",
        "          wordss[s][w]='NUM'\n",
        "        except:\n",
        "          pass"
      ]
    },
    {
      "cell_type": "markdown",
      "metadata": {},
      "source": [
        "#Word2index"
      ]
    },
    {
      "cell_type": "code",
      "execution_count": null,
      "metadata": {
        "id": "WBrLDvZpiQzt"
      },
      "outputs": [],
      "source": [
        "##MakeDictionary\n",
        "word2index={}\n",
        "word2index_save=[]\n",
        "tag2index = {t: i + 1 for i, t in enumerate(tags)}\n",
        "tag2index['PAD'] = 0  \n",
        "\n",
        "for i, sent in enumerate(wordss):\n",
        "  for j,word in enumerate(sent):\n",
        "    word2index[word]=j\n",
        "# word2index = { w :i + 2 for i, w in enumerate(wordss)}\n",
        "word2index['PAD'] = 0  \n",
        "word2index['UNK'] = 1   \n",
        "\n",
        "word2index_save = list((w ,i + 2 ) for i, w in enumerate(wordss))\n",
        "word2index_save.append(('PAD',0))\n",
        "word2index_save.append(('UNK',1))"
      ]
    },
    {
      "cell_type": "code",
      "execution_count": null,
      "metadata": {
        "colab": {
          "base_uri": "https://localhost:8080/",
          "height": 424
        },
        "id": "JE1o4c6WN9l5",
        "outputId": "6c8f6c44-6e28-47e7-9f47-44d2ccb46b7d"
      },
      "outputs": [
        {
          "data": {
            "text/html": [
              "\n",
              "  <div id=\"df-eaecf105-c891-4e15-b78b-11c86fc4d7cc\">\n",
              "    <div class=\"colab-df-container\">\n",
              "      <div>\n",
              "<style scoped>\n",
              "    .dataframe tbody tr th:only-of-type {\n",
              "        vertical-align: middle;\n",
              "    }\n",
              "\n",
              "    .dataframe tbody tr th {\n",
              "        vertical-align: top;\n",
              "    }\n",
              "\n",
              "    .dataframe thead th {\n",
              "        text-align: right;\n",
              "    }\n",
              "</style>\n",
              "<table border=\"1\" class=\"dataframe\">\n",
              "  <thead>\n",
              "    <tr style=\"text-align: right;\">\n",
              "      <th></th>\n",
              "      <th>words</th>\n",
              "      <th>indexs</th>\n",
              "    </tr>\n",
              "  </thead>\n",
              "  <tbody>\n",
              "    <tr>\n",
              "      <th>0</th>\n",
              "      <td>[สุรยุทธ์, ยัน, ปฏิเสธ, ลงนาม, _, MOU, _, กับ,...</td>\n",
              "      <td>2</td>\n",
              "    </tr>\n",
              "    <tr>\n",
              "      <th>1</th>\n",
              "      <td>[NUM, _, กันยายน, _, NUM, _, 12:21, _, น.]</td>\n",
              "      <td>3</td>\n",
              "    </tr>\n",
              "    <tr>\n",
              "      <th>2</th>\n",
              "      <td>[นายก, ฯ, _, ย้ำ, ไม่, ลงนาม, ใน, _, MOU, _, ร...</td>\n",
              "      <td>4</td>\n",
              "    </tr>\n",
              "    <tr>\n",
              "      <th>3</th>\n",
              "      <td>[ยัน, ไทย, ไม่, ได้, ล้มเหลว, ถึง, ขั้น, นั้น,...</td>\n",
              "      <td>5</td>\n",
              "    </tr>\n",
              "    <tr>\n",
              "      <th>4</th>\n",
              "      <td>[พร้อม, หนุน, กกต., จัด, เลือกตั้ง, ให้, บริสุ...</td>\n",
              "      <td>6</td>\n",
              "    </tr>\n",
              "    <tr>\n",
              "      <th>...</th>\n",
              "      <td>...</td>\n",
              "      <td>...</td>\n",
              "    </tr>\n",
              "    <tr>\n",
              "      <th>73747</th>\n",
              "      <td>[**, _, เชิญ, \", ชวรัตน์, \", _, ชี้แจง, _, NUM...</td>\n",
              "      <td>73749</td>\n",
              "    </tr>\n",
              "    <tr>\n",
              "      <th>73748</th>\n",
              "      <td>[นาย, ไพโรจน์, _, กล่าว, ด้วย, ว่า, _, คณะ, กร...</td>\n",
              "      <td>73750</td>\n",
              "    </tr>\n",
              "    <tr>\n",
              "      <th>73749</th>\n",
              "      <td>[ด้าน, นาย, ฐนโรจน์, _, กล่าว, ว่า, _, ตน, ใน,...</td>\n",
              "      <td>73751</td>\n",
              "    </tr>\n",
              "    <tr>\n",
              "      <th>73750</th>\n",
              "      <td>PAD</td>\n",
              "      <td>0</td>\n",
              "    </tr>\n",
              "    <tr>\n",
              "      <th>73751</th>\n",
              "      <td>UNK</td>\n",
              "      <td>1</td>\n",
              "    </tr>\n",
              "  </tbody>\n",
              "</table>\n",
              "<p>73752 rows × 2 columns</p>\n",
              "</div>\n",
              "      <button class=\"colab-df-convert\" onclick=\"convertToInteractive('df-eaecf105-c891-4e15-b78b-11c86fc4d7cc')\"\n",
              "              title=\"Convert this dataframe to an interactive table.\"\n",
              "              style=\"display:none;\">\n",
              "        \n",
              "  <svg xmlns=\"http://www.w3.org/2000/svg\" height=\"24px\"viewBox=\"0 0 24 24\"\n",
              "       width=\"24px\">\n",
              "    <path d=\"M0 0h24v24H0V0z\" fill=\"none\"/>\n",
              "    <path d=\"M18.56 5.44l.94 2.06.94-2.06 2.06-.94-2.06-.94-.94-2.06-.94 2.06-2.06.94zm-11 1L8.5 8.5l.94-2.06 2.06-.94-2.06-.94L8.5 2.5l-.94 2.06-2.06.94zm10 10l.94 2.06.94-2.06 2.06-.94-2.06-.94-.94-2.06-.94 2.06-2.06.94z\"/><path d=\"M17.41 7.96l-1.37-1.37c-.4-.4-.92-.59-1.43-.59-.52 0-1.04.2-1.43.59L10.3 9.45l-7.72 7.72c-.78.78-.78 2.05 0 2.83L4 21.41c.39.39.9.59 1.41.59.51 0 1.02-.2 1.41-.59l7.78-7.78 2.81-2.81c.8-.78.8-2.07 0-2.86zM5.41 20L4 18.59l7.72-7.72 1.47 1.35L5.41 20z\"/>\n",
              "  </svg>\n",
              "      </button>\n",
              "      \n",
              "  <style>\n",
              "    .colab-df-container {\n",
              "      display:flex;\n",
              "      flex-wrap:wrap;\n",
              "      gap: 12px;\n",
              "    }\n",
              "\n",
              "    .colab-df-convert {\n",
              "      background-color: #E8F0FE;\n",
              "      border: none;\n",
              "      border-radius: 50%;\n",
              "      cursor: pointer;\n",
              "      display: none;\n",
              "      fill: #1967D2;\n",
              "      height: 32px;\n",
              "      padding: 0 0 0 0;\n",
              "      width: 32px;\n",
              "    }\n",
              "\n",
              "    .colab-df-convert:hover {\n",
              "      background-color: #E2EBFA;\n",
              "      box-shadow: 0px 1px 2px rgba(60, 64, 67, 0.3), 0px 1px 3px 1px rgba(60, 64, 67, 0.15);\n",
              "      fill: #174EA6;\n",
              "    }\n",
              "\n",
              "    [theme=dark] .colab-df-convert {\n",
              "      background-color: #3B4455;\n",
              "      fill: #D2E3FC;\n",
              "    }\n",
              "\n",
              "    [theme=dark] .colab-df-convert:hover {\n",
              "      background-color: #434B5C;\n",
              "      box-shadow: 0px 1px 3px 1px rgba(0, 0, 0, 0.15);\n",
              "      filter: drop-shadow(0px 1px 2px rgba(0, 0, 0, 0.3));\n",
              "      fill: #FFFFFF;\n",
              "    }\n",
              "  </style>\n",
              "\n",
              "      <script>\n",
              "        const buttonEl =\n",
              "          document.querySelector('#df-eaecf105-c891-4e15-b78b-11c86fc4d7cc button.colab-df-convert');\n",
              "        buttonEl.style.display =\n",
              "          google.colab.kernel.accessAllowed ? 'block' : 'none';\n",
              "\n",
              "        async function convertToInteractive(key) {\n",
              "          const element = document.querySelector('#df-eaecf105-c891-4e15-b78b-11c86fc4d7cc');\n",
              "          const dataTable =\n",
              "            await google.colab.kernel.invokeFunction('convertToInteractive',\n",
              "                                                     [key], {});\n",
              "          if (!dataTable) return;\n",
              "\n",
              "          const docLinkHtml = 'Like what you see? Visit the ' +\n",
              "            '<a target=\"_blank\" href=https://colab.research.google.com/notebooks/data_table.ipynb>data table notebook</a>'\n",
              "            + ' to learn more about interactive tables.';\n",
              "          element.innerHTML = '';\n",
              "          dataTable['output_type'] = 'display_data';\n",
              "          await google.colab.output.renderOutput(dataTable, element);\n",
              "          const docLink = document.createElement('div');\n",
              "          docLink.innerHTML = docLinkHtml;\n",
              "          element.appendChild(docLink);\n",
              "        }\n",
              "      </script>\n",
              "    </div>\n",
              "  </div>\n",
              "  "
            ],
            "text/plain": [
              "                                                   words  indexs\n",
              "0      [สุรยุทธ์, ยัน, ปฏิเสธ, ลงนาม, _, MOU, _, กับ,...       2\n",
              "1             [NUM, _, กันยายน, _, NUM, _, 12:21, _, น.]       3\n",
              "2      [นายก, ฯ, _, ย้ำ, ไม่, ลงนาม, ใน, _, MOU, _, ร...       4\n",
              "3      [ยัน, ไทย, ไม่, ได้, ล้มเหลว, ถึง, ขั้น, นั้น,...       5\n",
              "4      [พร้อม, หนุน, กกต., จัด, เลือกตั้ง, ให้, บริสุ...       6\n",
              "...                                                  ...     ...\n",
              "73747  [**, _, เชิญ, \", ชวรัตน์, \", _, ชี้แจง, _, NUM...   73749\n",
              "73748  [นาย, ไพโรจน์, _, กล่าว, ด้วย, ว่า, _, คณะ, กร...   73750\n",
              "73749  [ด้าน, นาย, ฐนโรจน์, _, กล่าว, ว่า, _, ตน, ใน,...   73751\n",
              "73750                                                PAD       0\n",
              "73751                                                UNK       1\n",
              "\n",
              "[73752 rows x 2 columns]"
            ]
          },
          "execution_count": 13,
          "metadata": {},
          "output_type": "execute_result"
        }
      ],
      "source": [
        "df=pd.DataFrame(word2index_save,columns=['words','indexs'])\n",
        "df.to_csv('my_dict.csv')\n",
        "df"
      ]
    },
    {
      "cell_type": "code",
      "execution_count": null,
      "metadata": {
        "colab": {
          "base_uri": "https://localhost:8080/"
        },
        "id": "mev3Kr0PyDlb",
        "outputId": "7823764b-2484-485c-e9ba-4e41209943fe"
      },
      "outputs": [
        {
          "name": "stdout",
          "output_type": "stream",
          "text": [
            "['PAD']\n"
          ]
        }
      ],
      "source": [
        "b=['B_BRN', 'B_DES', 'B_DTM', 'B_LOC', 'B_MEA', 'B_NUM', 'B_ORG', 'B_PER', 'B_TRM', 'B_TTL', 'E_BRN', 'E_DES', 'E_DTM', 'E_LOC', 'E_MEA', 'E_NUM', 'E_ORG', 'E_PER', 'E_TRM', 'E_TTL', 'I_BRN', 'I_DES', 'I_DTM', 'I_LOC', 'I_MEA', 'I_NUM', 'I_ORG', 'I_PER', 'I_TRM', 'I_TTL', 'O']\n",
        "c=[]\n",
        "for i in tag2index:\n",
        "  if i not in b:\n",
        "    c.append(i)\n",
        "print(c)"
      ]
    },
    {
      "cell_type": "code",
      "execution_count": null,
      "metadata": {
        "colab": {
          "base_uri": "https://localhost:8080/",
          "height": 427
        },
        "id": "X_zbLTLm_DPo",
        "outputId": "d10a44f0-6789-46af-b248-f35a030a920c"
      },
      "outputs": [],
      "source": [
        "train_sentences_X, test_sentences_X, train_tags_y, test_tags_y = [], [], [], []\n",
        " \n",
        "for s in train_sentences:\n",
        "    s_int = []\n",
        "    for w in s:\n",
        "        try:\n",
        "            s_int.append(word2index[w]) #.lower()])\n",
        "        except KeyError:\n",
        "            s_int.append(word2index['UNK'])\n",
        " \n",
        "    train_sentences_X.append(s_int)\n",
        " \n",
        "for s in test_sentences:\n",
        "    s_int = []\n",
        "    for w in s:\n",
        "        try:\n",
        "            s_int.append(word2index[w]) #.lower()])\n",
        "        except KeyError:\n",
        "            s_int.append(word2index['UNK'])\n",
        " \n",
        "    test_sentences_X.append(s_int)\n",
        "\n",
        "for s in train_tags:\n",
        "    a=[]\n",
        "    for t in s:\n",
        "        try:\n",
        "            a.append(tag2index[t])\n",
        "        except:\n",
        "            a.append(tag2index['UNK'])\n",
        "    train_tags_y.append(a)\n",
        "for s in test_tags:\n",
        "    #print(s)\n",
        "    a=[]\n",
        "    for t in s:\n",
        "        try:\n",
        "            a.append(tag2index[t])\n",
        "        except:\n",
        "            a.append(tag2index['UNK'])\n",
        "    test_tags_y.append(a)"
      ]
    },
    {
      "cell_type": "markdown",
      "metadata": {
        "id": "dsNngxhvy4qs"
      },
      "source": [
        "# Model"
      ]
    },
    {
      "cell_type": "code",
      "execution_count": null,
      "metadata": {
        "colab": {
          "base_uri": "https://localhost:8080/"
        },
        "id": "OEuQ0eml_J_2",
        "outputId": "c0e79d18-6463-4939-d3d8-10080dc34b59"
      },
      "outputs": [
        {
          "name": "stdout",
          "output_type": "stream",
          "text": [
            "150\n"
          ]
        }
      ],
      "source": [
        "MAX_LENGTH = len(max(train_sentences_X, key=len))\n",
        "print(MAX_LENGTH)  # 271"
      ]
    },
    {
      "cell_type": "code",
      "execution_count": null,
      "metadata": {
        "id": "jlLAQjMR_Slp"
      },
      "outputs": [],
      "source": [
        "##Padding if there are less than 150 word\n",
        "from keras.preprocessing.sequence import pad_sequences\n",
        "train_sentences_X = pad_sequences(train_sentences_X, maxlen=MAX_LENGTH, padding='post')\n",
        "test_sentences_X = pad_sequences(test_sentences_X, maxlen=MAX_LENGTH, padding='post')\n",
        "train_tags_y = pad_sequences(train_tags_y, maxlen=MAX_LENGTH, padding='post')\n",
        "test_tags_y = pad_sequences(test_tags_y, maxlen=MAX_LENGTH, padding='post')"
      ]
    },
    {
      "cell_type": "code",
      "execution_count": null,
      "metadata": {
        "colab": {
          "base_uri": "https://localhost:8080/"
        },
        "id": "gt2IORJ3_Uu8",
        "outputId": "d899524d-713c-4594-9818-baaee18b12d2"
      },
      "outputs": [
        {
          "name": "stdout",
          "output_type": "stream",
          "text": [
            "Model: \"sequential\"\n",
            "_________________________________________________________________\n",
            " Layer (type)                Output Shape              Param #   \n",
            "=================================================================\n",
            " embedding (Embedding)       (None, 150, 128)          6871552   \n",
            "                                                                 \n",
            " bidirectional (Bidirectiona  (None, 150, 512)         788480    \n",
            " l)                                                              \n",
            "                                                                 \n",
            " time_distributed (TimeDistr  (None, 150, 43)          22059     \n",
            " ibuted)                                                         \n",
            "                                                                 \n",
            " activation (Activation)     (None, 150, 43)           0         \n",
            "                                                                 \n",
            "=================================================================\n",
            "Total params: 7,682,091\n",
            "Trainable params: 7,682,091\n",
            "Non-trainable params: 0\n",
            "_________________________________________________________________\n"
          ]
        }
      ],
      "source": [
        "from keras.models import Sequential\n",
        "from keras.layers import Dense, LSTM, InputLayer, Bidirectional, TimeDistributed, Embedding, Activation\n",
        "from tensorflow.keras.optimizers import Adam, SGD, RMSprop\n",
        "model = Sequential()\n",
        "model.add(InputLayer(input_shape=(MAX_LENGTH, )))\n",
        "model.add(Embedding(len(word2index), 128))\n",
        "model.add(Bidirectional(LSTM(256, return_sequences=True)))\n",
        "model.add(TimeDistributed(Dense(len(tag2index))))\n",
        "model.add(Activation('softmax'))\n",
        " \n",
        "model.compile(loss='categorical_crossentropy',\n",
        "              optimizer=Adam(0.001),\n",
        "              metrics=['accuracy'])\n",
        "model.summary()"
      ]
    },
    {
      "cell_type": "code",
      "execution_count": null,
      "metadata": {
        "id": "mrXHaoUj_qmr"
      },
      "outputs": [],
      "source": [
        "def to_categorical(sequences, categories):\n",
        "    cat_sequences = []\n",
        "    for s in sequences:\n",
        "        cats = []\n",
        "        for item in s:\n",
        "            cats.append(np.zeros(categories))\n",
        "            cats[-1][item] = 1.0\n",
        "        cat_sequences.append(cats)\n",
        "    return np.array(cat_sequences)"
      ]
    },
    {
      "cell_type": "code",
      "execution_count": null,
      "metadata": {
        "colab": {
          "base_uri": "https://localhost:8080/"
        },
        "id": "dL0abdIOI91W",
        "outputId": "d0c0a44b-7ee1-4c8c-f2ea-b052dc9dc74c"
      },
      "outputs": [
        {
          "data": {
            "text/plain": [
              "(array([[42, 42, 42, ...,  0,  0,  0],\n",
              "        [42, 42, 42, ...,  0,  0,  0],\n",
              "        [42, 42, 42, ...,  0,  0,  0],\n",
              "        ...,\n",
              "        [42, 42, 42, ...,  0,  0,  0],\n",
              "        [42, 42, 42, ...,  0,  0,  0],\n",
              "        [42, 42, 42, ...,  0,  0,  0]], dtype=int32), (59000, 150))"
            ]
          },
          "execution_count": 14,
          "metadata": {},
          "output_type": "execute_result"
        }
      ],
      "source": [
        "train_tags_y, train_tags_y.shape"
      ]
    },
    {
      "cell_type": "code",
      "execution_count": null,
      "metadata": {
        "colab": {
          "base_uri": "https://localhost:8080/"
        },
        "id": "b70qa_ObDDS5",
        "outputId": "db66ddfa-468a-4d0e-d1ed-3e200912b5b5"
      },
      "outputs": [
        {
          "name": "stdout",
          "output_type": "stream",
          "text": [
            "43\n"
          ]
        }
      ],
      "source": [
        "train_tags_y[0]\n",
        "print(len(tag2index))"
      ]
    },
    {
      "cell_type": "code",
      "execution_count": null,
      "metadata": {
        "colab": {
          "base_uri": "https://localhost:8080/"
        },
        "id": "49zqS22O_usQ",
        "outputId": "e8245841-f5de-4170-e19a-869e24badc35"
      },
      "outputs": [
        {
          "name": "stdout",
          "output_type": "stream",
          "text": [
            "[[0. 0. 0. ... 0. 0. 1.]\n",
            " [0. 0. 0. ... 0. 0. 1.]\n",
            " [0. 0. 0. ... 0. 0. 1.]\n",
            " ...\n",
            " [1. 0. 0. ... 0. 0. 0.]\n",
            " [1. 0. 0. ... 0. 0. 0.]\n",
            " [1. 0. 0. ... 0. 0. 0.]]\n"
          ]
        }
      ],
      "source": [
        "\n",
        "cat_train_tags_y = to_categorical(train_tags_y, len(tag2index))\n",
        "print(cat_train_tags_y[0])"
      ]
    },
    {
      "cell_type": "code",
      "execution_count": null,
      "metadata": {
        "colab": {
          "base_uri": "https://localhost:8080/"
        },
        "id": "Wrtc8Vkg_xWB",
        "outputId": "07a948ae-0407-436e-c13f-d5fe09165522"
      },
      "outputs": [
        {
          "name": "stdout",
          "output_type": "stream",
          "text": [
            "Epoch 1/5\n",
            "1475/1475 [==============================] - 165s 107ms/step - loss: 0.1200 - accuracy: 0.9711 - val_loss: 0.0456 - val_accuracy: 0.9851\n",
            "Epoch 2/5\n",
            "1475/1475 [==============================] - 155s 105ms/step - loss: 0.0360 - accuracy: 0.9880 - val_loss: 0.0383 - val_accuracy: 0.9873\n",
            "Epoch 3/5\n",
            "1475/1475 [==============================] - 156s 106ms/step - loss: 0.0275 - accuracy: 0.9905 - val_loss: 0.0363 - val_accuracy: 0.9878\n",
            "Epoch 4/5\n",
            "1475/1475 [==============================] - 156s 106ms/step - loss: 0.0231 - accuracy: 0.9919 - val_loss: 0.0377 - val_accuracy: 0.9877\n",
            "Epoch 5/5\n",
            "1475/1475 [==============================] - 155s 105ms/step - loss: 0.0200 - accuracy: 0.9929 - val_loss: 0.0372 - val_accuracy: 0.9883\n"
          ]
        },
        {
          "data": {
            "text/plain": [
              "<keras.callbacks.History at 0x7f8b403a16d0>"
            ]
          },
          "execution_count": 17,
          "metadata": {},
          "output_type": "execute_result"
        }
      ],
      "source": [
        "model.fit(train_sentences_X, to_categorical(train_tags_y, len(tag2index)), batch_size=32, epochs=5, validation_split=0.2)"
      ]
    },
    {
      "cell_type": "code",
      "execution_count": null,
      "metadata": {
        "colab": {
          "base_uri": "https://localhost:8080/"
        },
        "id": "8AhKmbha_2DK",
        "outputId": "d7642f9e-e85a-4b34-aab7-b2635a44cf6e"
      },
      "outputs": [
        {
          "name": "stdout",
          "output_type": "stream",
          "text": [
            "461/461 [==============================] - 14s 31ms/step - loss: 0.0368 - accuracy: 0.9884\n",
            "accuracy: 98.84171485900879\n"
          ]
        }
      ],
      "source": [
        "scores = model.evaluate(test_sentences_X, to_categorical(test_tags_y, len(tag2index)))\n",
        "print(f\"{model.metrics_names[1]}: {scores[1] * 100}\")"
      ]
    },
    {
      "cell_type": "code",
      "execution_count": null,
      "metadata": {
        "id": "093X_1FMe6rN"
      },
      "outputs": [],
      "source": [
        "model.save('model_NER.h5')"
      ]
    },
    {
      "cell_type": "markdown",
      "metadata": {
        "id": "VvIpeLNZWw1y"
      },
      "source": [
        "# Predict"
      ]
    },
    {
      "cell_type": "code",
      "execution_count": null,
      "metadata": {
        "id": "yJuTWdARXFaE"
      },
      "outputs": [],
      "source": [
        "def logits_to_tokens(sequences, index):\n",
        "    token_sequences = []\n",
        "    for categorical_sequence in sequences:\n",
        "        token_sequence = []\n",
        "        for categorical in categorical_sequence:\n",
        "            token_sequence.append(index[np.argmax(categorical)])\n",
        "            \n",
        "        token_sequences.append(token_sequence)\n",
        " \n",
        "    return token_sequences"
      ]
    },
    {
      "cell_type": "markdown",
      "metadata": {
        "id": "riH9Ym2VW1SA"
      },
      "source": [
        "## try"
      ]
    },
    {
      "cell_type": "code",
      "execution_count": null,
      "metadata": {
        "colab": {
          "base_uri": "https://localhost:8080/"
        },
        "id": "RGoVesEdHK_k",
        "outputId": "50528f89-7350-463e-8fa1-3cf29c658224"
      },
      "outputs": [
        {
          "name": "stdout",
          "output_type": "stream",
          "text": [
            "[['และ', 'ยืนยัน', 'ว่า', 'ประชาชน', 'ใน', 'ภาค', 'ใต้', 'ไม่', 'มีการ', 'ซื้อ', 'เสียง']]\n"
          ]
        }
      ],
      "source": [
        "a='และ ยืนยัน ว่า ประชาชน ใน ภาค ใต้ ไม่ มีการ ซื้อ เสียง'\n",
        "test_samples=[a.split()]\n",
        "print(test_samples)# = [['นาง','สุดารัตน์','เกยุราพันธ์','รมว.','สาธารณสุข']]"
      ]
    },
    {
      "cell_type": "code",
      "execution_count": null,
      "metadata": {
        "colab": {
          "base_uri": "https://localhost:8080/"
        },
        "id": "zmxMs53tATCK",
        "outputId": "d78cf80e-40a4-4a0c-f588-9e471f5c6619"
      },
      "outputs": [
        {
          "name": "stdout",
          "output_type": "stream",
          "text": [
            "['และ', 'ยืนยัน', 'ว่า', 'ประชาชน', 'ใน', 'ภาค', 'ใต้', 'ไม่', 'มีการ', 'ซื้อ', 'เสียง']\n",
            "[31975]\n",
            "[31975, 3412]\n",
            "[31975, 3412, 2925]\n",
            "[31975, 3412, 2925, 51059]\n",
            "[31975, 3412, 2925, 51059, 14066]\n",
            "[31975, 3412, 2925, 51059, 14066, 2814]\n",
            "[31975, 3412, 2925, 51059, 14066, 2814, 5209]\n",
            "[31975, 3412, 2925, 51059, 14066, 2814, 5209, 34052]\n",
            "[31975, 3412, 2925, 51059, 14066, 2814, 5209, 34052, 41474]\n",
            "[31975, 3412, 2925, 51059, 14066, 2814, 5209, 34052, 41474, 6684]\n",
            "[31975, 3412, 2925, 51059, 14066, 2814, 5209, 34052, 41474, 6684, 51292]\n",
            "[[31975  3412  2925 51059 14066  2814  5209 34052 41474  6684 51292     0\n",
            "      0     0     0     0     0     0     0     0     0     0     0     0\n",
            "      0     0     0     0     0     0     0     0     0     0     0     0\n",
            "      0     0     0     0     0     0     0     0     0     0     0     0\n",
            "      0     0     0     0     0     0     0     0     0     0     0     0\n",
            "      0     0     0     0     0     0     0     0     0     0     0     0\n",
            "      0     0     0     0     0     0     0     0     0     0     0     0\n",
            "      0     0     0     0     0     0     0     0     0     0     0     0\n",
            "      0     0     0     0     0     0     0     0     0     0     0     0\n",
            "      0     0     0     0     0     0     0     0     0     0     0     0\n",
            "      0     0     0     0     0     0     0     0     0     0     0     0\n",
            "      0     0     0     0     0     0     0     0     0     0     0     0\n",
            "      0     0     0     0     0     0]]\n"
          ]
        }
      ],
      "source": [
        "test_samples_X = []\n",
        "for s in test_samples:\n",
        "    print(s)\n",
        "    s_int = []\n",
        "    \n",
        "    for w in s:\n",
        "        try:\n",
        "            s_int.append(word2index[w]) #.lower()])\n",
        "            print(s_int)\n",
        "        except KeyError:\n",
        "            s_int.append(word2index['-UNK-'])\n",
        "    test_samples_X.append(s_int)\n",
        " \n",
        "test_samples_X = pad_sequences(test_samples_X, maxlen=MAX_LENGTH, padding='post')\n",
        "print(test_samples_X)"
      ]
    },
    {
      "cell_type": "code",
      "execution_count": null,
      "metadata": {
        "colab": {
          "base_uri": "https://localhost:8080/"
        },
        "id": "NNo4bSfsAVdv",
        "outputId": "c488b819-c1be-4291-dc8d-700f7b4a95b4"
      },
      "outputs": [
        {
          "name": "stdout",
          "output_type": "stream",
          "text": [
            "[[[2.1642062e-07 1.1774106e-07 6.9564152e-08 ... 1.9272306e-05\n",
            "   3.4463611e-07 9.9989855e-01]\n",
            "  [3.6144130e-09 1.3884236e-09 9.9120612e-10 ... 1.0755753e-08\n",
            "   5.4350329e-09 9.9999905e-01]\n",
            "  [2.1949864e-08 1.2659463e-08 8.5253182e-09 ... 3.6690949e-06\n",
            "   5.4401195e-08 9.9998224e-01]\n",
            "  ...\n",
            "  [1.0000000e+00 4.5987898e-11 9.8159224e-12 ... 1.7389731e-12\n",
            "   1.4270700e-11 1.4406609e-09]\n",
            "  [1.0000000e+00 4.0892054e-10 1.1451667e-10 ... 3.6003130e-12\n",
            "   1.2117168e-10 4.8142373e-10]\n",
            "  [9.9999678e-01 1.2837711e-08 4.4021529e-09 ... 6.2132355e-11\n",
            "   4.4859214e-09 1.7688734e-09]]] (1, 150, 43)\n"
          ]
        }
      ],
      "source": [
        "predictions = model.predict(test_samples_X)\n",
        "print(predictions, predictions.shape)"
      ]
    },
    {
      "cell_type": "code",
      "execution_count": null,
      "metadata": {
        "colab": {
          "base_uri": "https://localhost:8080/"
        },
        "id": "3ZpK0-DwAeVh",
        "outputId": "c80266a5-b9a2-47a3-d267-4821b20475a0"
      },
      "outputs": [
        {
          "name": "stdout",
          "output_type": "stream",
          "text": [
            "[['O', 'O', 'O', 'O', 'O', 'O', 'O', 'O', 'O', 'O', 'O', '-PAD-', '-PAD-', '-PAD-', '-PAD-', '-PAD-', '-PAD-', '-PAD-', '-PAD-', '-PAD-', '-PAD-', '-PAD-', '-PAD-', '-PAD-', '-PAD-', '-PAD-', '-PAD-', '-PAD-', '-PAD-', '-PAD-', '-PAD-', '-PAD-', '-PAD-', '-PAD-', '-PAD-', '-PAD-', '-PAD-', '-PAD-', '-PAD-', '-PAD-', '-PAD-', '-PAD-', '-PAD-', '-PAD-', '-PAD-', '-PAD-', '-PAD-', '-PAD-', '-PAD-', '-PAD-', '-PAD-', '-PAD-', '-PAD-', '-PAD-', '-PAD-', '-PAD-', '-PAD-', '-PAD-', '-PAD-', '-PAD-', '-PAD-', '-PAD-', '-PAD-', '-PAD-', '-PAD-', '-PAD-', '-PAD-', '-PAD-', '-PAD-', '-PAD-', '-PAD-', '-PAD-', '-PAD-', '-PAD-', '-PAD-', '-PAD-', '-PAD-', '-PAD-', '-PAD-', '-PAD-', '-PAD-', '-PAD-', '-PAD-', '-PAD-', '-PAD-', '-PAD-', '-PAD-', '-PAD-', '-PAD-', '-PAD-', '-PAD-', '-PAD-', '-PAD-', '-PAD-', '-PAD-', '-PAD-', '-PAD-', '-PAD-', '-PAD-', '-PAD-', '-PAD-', '-PAD-', '-PAD-', '-PAD-', '-PAD-', '-PAD-', '-PAD-', '-PAD-', '-PAD-', '-PAD-', '-PAD-', '-PAD-', '-PAD-', '-PAD-', '-PAD-', '-PAD-', '-PAD-', '-PAD-', '-PAD-', '-PAD-', '-PAD-', '-PAD-', '-PAD-', '-PAD-', '-PAD-', '-PAD-', '-PAD-', '-PAD-', '-PAD-', '-PAD-', '-PAD-', '-PAD-', '-PAD-', '-PAD-', '-PAD-', '-PAD-', '-PAD-', '-PAD-', '-PAD-', '-PAD-', '-PAD-', '-PAD-', '-PAD-', '-PAD-', '-PAD-', '-PAD-', '-PAD-', '-PAD-', '-PAD-', '-PAD-']]\n"
          ]
        }
      ],
      "source": [
        "print(logits_to_tokens(predictions, {i: t for t, i in tag2index.items()}))"
      ]
    },
    {
      "cell_type": "markdown",
      "metadata": {
        "id": "ePZR9u-QXISg"
      },
      "source": [
        "## Submission1"
      ]
    },
    {
      "cell_type": "code",
      "execution_count": null,
      "metadata": {
        "colab": {
          "base_uri": "https://localhost:8080/"
        },
        "id": "7n_BRwjWLBsl",
        "outputId": "445a6ccb-85a8-43bc-b502-71d865cbba9a"
      },
      "outputs": [],
      "source": [
        "path_test = '/content/ne_test.txt'\n",
        "ne_test_pd = pd.read_csv(path_test, sep=' /', header=None, skip_blank_lines=False)\n",
        "ne_test_pd=ne_test_pd.fillna('_')"
      ]
    },
    {
      "cell_type": "code",
      "execution_count": null,
      "metadata": {
        "id": "TaIAXCZAjKmb"
      },
      "outputs": [],
      "source": [
        "test_samples_X = []\n",
        "\n",
        "check_predict=[]\n",
        "for s in ne_test_pd[0]:\n",
        "    try:\n",
        "        test_samples_X.append(word2index[s]) #.lower()])\n",
        "        check_predict.append(s)\n",
        "    except KeyError:\n",
        "        test_samples_X.append(word2index['-UNK-'])\n",
        "        check_predict.append('-UNK-')\n",
        "\n",
        "nu_test_sent = []\n",
        "check_pred=[]\n",
        "for i in range(0,len(test_samples_X),MAX_LENGTH):\n",
        "  nu_test_sent.append(test_samples_X[i:i+MAX_LENGTH])\n",
        "  check_pred.append(check_predict[i:i+MAX_LENGTH])\n",
        "\n",
        "a=len(nu_test_sent[-1]) \n",
        "b=len(nu_test_sent)\n",
        "for i in range(MAX_LENGTH-a):\n",
        "  nu_test_sent[-1].append(word2index['-PAD-']) # PAD last index\n",
        "  check_pred[-1].append('-PAD-')"
      ]
    },
    {
      "cell_type": "code",
      "execution_count": null,
      "metadata": {
        "colab": {
          "base_uri": "https://localhost:8080/"
        },
        "id": "O3yEyk00kKIy",
        "outputId": "0d27a985-26ab-4eb0-af80-9e40bbe3e05f"
      },
      "outputs": [],
      "source": [
        "nu_test_sent=np.array(nu_test_sent)\n",
        "predictions = model.predict(nu_test_sent)\n",
        "print(predictions, predictions.shape)"
      ]
    },
    {
      "cell_type": "code",
      "execution_count": null,
      "metadata": {
        "colab": {
          "base_uri": "https://localhost:8080/"
        },
        "id": "P4ZFuKMOssBc",
        "outputId": "e1f5d860-425b-4e62-dffd-2b2689cc99f2"
      },
      "outputs": [],
      "source": [
        "submis=logits_to_tokens(predictions, {i: t for t, i in tag2index.items()})\n",
        "print(logits_to_tokens(predictions, {i: t for t, i in tag2index.items()}))"
      ]
    },
    {
      "cell_type": "code",
      "execution_count": null,
      "metadata": {
        "id": "MoFXekU7zFZi"
      },
      "outputs": [],
      "source": [
        "sample_submission=[]\n",
        "for i in submis:\n",
        "  for j in i:\n",
        "    # if j=='-PAD-': break\n",
        "    sample_submission.append(j)\n"
      ]
    },
    {
      "cell_type": "code",
      "execution_count": null,
      "metadata": {
        "colab": {
          "base_uri": "https://localhost:8080/"
        },
        "id": "_-X7Ri1v6Dki",
        "outputId": "7778f5ac-b37b-4d8f-b7d6-bc28556243e8"
      },
      "outputs": [
        {
          "data": {
            "text/plain": [
              "69600"
            ]
          },
          "execution_count": 255,
          "metadata": {},
          "output_type": "execute_result"
        }
      ],
      "source": [
        "len(sample_submission)"
      ]
    },
    {
      "cell_type": "code",
      "execution_count": null,
      "metadata": {
        "colab": {
          "base_uri": "https://localhost:8080/"
        },
        "id": "sjpyMF_76IQS",
        "outputId": "b89de70c-13de-4311-ea90-cdd83f8629b4"
      },
      "outputs": [
        {
          "data": {
            "text/plain": [
              "69562"
            ]
          },
          "execution_count": 256,
          "metadata": {},
          "output_type": "execute_result"
        }
      ],
      "source": [
        "len(test_samples_X)"
      ]
    },
    {
      "cell_type": "code",
      "execution_count": null,
      "metadata": {
        "colab": {
          "base_uri": "https://localhost:8080/"
        },
        "id": "iJsDZbri1oKk",
        "outputId": "29802669-09d9-470e-d549-2944917eb898"
      },
      "outputs": [
        {
          "name": "stdout",
          "output_type": "stream",
          "text": [
            "69561\n"
          ]
        }
      ],
      "source": [
        "sub  =  sample_submission[0:len(test_samples_X)-1]\n",
        "print(len(sub))"
      ]
    },
    {
      "cell_type": "code",
      "execution_count": null,
      "metadata": {
        "id": "0bKVHQzv3GUL"
      },
      "outputs": [],
      "source": [
        "num_csv=np.arange(69562).tolist()\n",
        "print(num_csv[-1])"
      ]
    },
    {
      "cell_type": "code",
      "execution_count": null,
      "metadata": {
        "colab": {
          "base_uri": "https://localhost:8080/",
          "height": 423
        },
        "id": "O7ShwY813nGq",
        "outputId": "9218a48b-d716-4ae6-c9b3-f1c3ac98cb61"
      },
      "outputs": [
        {
          "data": {
            "text/html": [
              "\n",
              "  <div id=\"df-420911d0-84e4-475b-834a-5124453c458f\">\n",
              "    <div class=\"colab-df-container\">\n",
              "      <div>\n",
              "<style scoped>\n",
              "    .dataframe tbody tr th:only-of-type {\n",
              "        vertical-align: middle;\n",
              "    }\n",
              "\n",
              "    .dataframe tbody tr th {\n",
              "        vertical-align: top;\n",
              "    }\n",
              "\n",
              "    .dataframe thead th {\n",
              "        text-align: right;\n",
              "    }\n",
              "</style>\n",
              "<table border=\"1\" class=\"dataframe\">\n",
              "  <thead>\n",
              "    <tr style=\"text-align: right;\">\n",
              "      <th></th>\n",
              "      <th>0</th>\n",
              "    </tr>\n",
              "  </thead>\n",
              "  <tbody>\n",
              "    <tr>\n",
              "      <th>0</th>\n",
              "      <td>นาง</td>\n",
              "    </tr>\n",
              "    <tr>\n",
              "      <th>1</th>\n",
              "      <td>สุดารัตน์</td>\n",
              "    </tr>\n",
              "    <tr>\n",
              "      <th>2</th>\n",
              "      <td>_</td>\n",
              "    </tr>\n",
              "    <tr>\n",
              "      <th>3</th>\n",
              "      <td>เกยุราพันธ์</td>\n",
              "    </tr>\n",
              "    <tr>\n",
              "      <th>4</th>\n",
              "      <td>_</td>\n",
              "    </tr>\n",
              "    <tr>\n",
              "      <th>...</th>\n",
              "      <td>...</td>\n",
              "    </tr>\n",
              "    <tr>\n",
              "      <th>69557</th>\n",
              "      <td>เหตุ</td>\n",
              "    </tr>\n",
              "    <tr>\n",
              "      <th>69558</th>\n",
              "      <td>ดัง</td>\n",
              "    </tr>\n",
              "    <tr>\n",
              "      <th>69559</th>\n",
              "      <td>กล่าว</td>\n",
              "    </tr>\n",
              "    <tr>\n",
              "      <th>69560</th>\n",
              "      <td>ขึ้น</td>\n",
              "    </tr>\n",
              "    <tr>\n",
              "      <th>69561</th>\n",
              "      <td>_</td>\n",
              "    </tr>\n",
              "  </tbody>\n",
              "</table>\n",
              "<p>69562 rows × 1 columns</p>\n",
              "</div>\n",
              "      <button class=\"colab-df-convert\" onclick=\"convertToInteractive('df-420911d0-84e4-475b-834a-5124453c458f')\"\n",
              "              title=\"Convert this dataframe to an interactive table.\"\n",
              "              style=\"display:none;\">\n",
              "        \n",
              "  <svg xmlns=\"http://www.w3.org/2000/svg\" height=\"24px\"viewBox=\"0 0 24 24\"\n",
              "       width=\"24px\">\n",
              "    <path d=\"M0 0h24v24H0V0z\" fill=\"none\"/>\n",
              "    <path d=\"M18.56 5.44l.94 2.06.94-2.06 2.06-.94-2.06-.94-.94-2.06-.94 2.06-2.06.94zm-11 1L8.5 8.5l.94-2.06 2.06-.94-2.06-.94L8.5 2.5l-.94 2.06-2.06.94zm10 10l.94 2.06.94-2.06 2.06-.94-2.06-.94-.94-2.06-.94 2.06-2.06.94z\"/><path d=\"M17.41 7.96l-1.37-1.37c-.4-.4-.92-.59-1.43-.59-.52 0-1.04.2-1.43.59L10.3 9.45l-7.72 7.72c-.78.78-.78 2.05 0 2.83L4 21.41c.39.39.9.59 1.41.59.51 0 1.02-.2 1.41-.59l7.78-7.78 2.81-2.81c.8-.78.8-2.07 0-2.86zM5.41 20L4 18.59l7.72-7.72 1.47 1.35L5.41 20z\"/>\n",
              "  </svg>\n",
              "      </button>\n",
              "      \n",
              "  <style>\n",
              "    .colab-df-container {\n",
              "      display:flex;\n",
              "      flex-wrap:wrap;\n",
              "      gap: 12px;\n",
              "    }\n",
              "\n",
              "    .colab-df-convert {\n",
              "      background-color: #E8F0FE;\n",
              "      border: none;\n",
              "      border-radius: 50%;\n",
              "      cursor: pointer;\n",
              "      display: none;\n",
              "      fill: #1967D2;\n",
              "      height: 32px;\n",
              "      padding: 0 0 0 0;\n",
              "      width: 32px;\n",
              "    }\n",
              "\n",
              "    .colab-df-convert:hover {\n",
              "      background-color: #E2EBFA;\n",
              "      box-shadow: 0px 1px 2px rgba(60, 64, 67, 0.3), 0px 1px 3px 1px rgba(60, 64, 67, 0.15);\n",
              "      fill: #174EA6;\n",
              "    }\n",
              "\n",
              "    [theme=dark] .colab-df-convert {\n",
              "      background-color: #3B4455;\n",
              "      fill: #D2E3FC;\n",
              "    }\n",
              "\n",
              "    [theme=dark] .colab-df-convert:hover {\n",
              "      background-color: #434B5C;\n",
              "      box-shadow: 0px 1px 3px 1px rgba(0, 0, 0, 0.15);\n",
              "      filter: drop-shadow(0px 1px 2px rgba(0, 0, 0, 0.3));\n",
              "      fill: #FFFFFF;\n",
              "    }\n",
              "  </style>\n",
              "\n",
              "      <script>\n",
              "        const buttonEl =\n",
              "          document.querySelector('#df-420911d0-84e4-475b-834a-5124453c458f button.colab-df-convert');\n",
              "        buttonEl.style.display =\n",
              "          google.colab.kernel.accessAllowed ? 'block' : 'none';\n",
              "\n",
              "        async function convertToInteractive(key) {\n",
              "          const element = document.querySelector('#df-420911d0-84e4-475b-834a-5124453c458f');\n",
              "          const dataTable =\n",
              "            await google.colab.kernel.invokeFunction('convertToInteractive',\n",
              "                                                     [key], {});\n",
              "          if (!dataTable) return;\n",
              "\n",
              "          const docLinkHtml = 'Like what you see? Visit the ' +\n",
              "            '<a target=\"_blank\" href=https://colab.research.google.com/notebooks/data_table.ipynb>data table notebook</a>'\n",
              "            + ' to learn more about interactive tables.';\n",
              "          element.innerHTML = '';\n",
              "          dataTable['output_type'] = 'display_data';\n",
              "          await google.colab.output.renderOutput(dataTable, element);\n",
              "          const docLink = document.createElement('div');\n",
              "          docLink.innerHTML = docLinkHtml;\n",
              "          element.appendChild(docLink);\n",
              "        }\n",
              "      </script>\n",
              "    </div>\n",
              "  </div>\n",
              "  "
            ],
            "text/plain": [
              "                 0\n",
              "0              นาง\n",
              "1        สุดารัตน์\n",
              "2                _\n",
              "3      เกยุราพันธ์\n",
              "4                _\n",
              "...            ...\n",
              "69557         เหตุ\n",
              "69558          ดัง\n",
              "69559        กล่าว\n",
              "69560         ขึ้น\n",
              "69561            _\n",
              "\n",
              "[69562 rows x 1 columns]"
            ]
          },
          "execution_count": 241,
          "metadata": {},
          "output_type": "execute_result"
        }
      ],
      "source": [
        "ne_test_pd"
      ]
    },
    {
      "cell_type": "code",
      "execution_count": null,
      "metadata": {
        "id": "YC6GuJLj7LPx"
      },
      "outputs": [],
      "source": [
        "sub_csv = []\n",
        "for n, i in enumerate(sub):\n",
        "  sub_csv.append([n+1, i])"
      ]
    },
    {
      "cell_type": "code",
      "execution_count": null,
      "metadata": {
        "id": "sRS_6bHC7MqS"
      },
      "outputs": [],
      "source": [
        "pd.DataFrame(sub_csv, columns=['Id','Predicted']).to_csv(f'submission.csv', index=None)"
      ]
    },
    {
      "cell_type": "code",
      "execution_count": null,
      "metadata": {
        "colab": {
          "base_uri": "https://localhost:8080/",
          "height": 467
        },
        "id": "YdmeZ45i3aZV",
        "outputId": "a8f6d737-eea7-4c40-97c3-61b924e95bb6"
      },
      "outputs": [],
      "source": [
        "df=pd.DataFrame([num_csv,sub],columns=['Id','Predicted'],index=False)\n",
        "df.to_csv('sample_submission.csv')"
      ]
    },
    {
      "cell_type": "code",
      "execution_count": null,
      "metadata": {
        "colab": {
          "base_uri": "https://localhost:8080/"
        },
        "id": "rgbBLMcXv5az",
        "outputId": "a2bc97ef-e2e9-4f4b-d1ee-76b920f3452e"
      },
      "outputs": [
        {
          "name": "stdout",
          "output_type": "stream",
          "text": [
            "['นาง', 'สุดารัตน์', '_', 'เกยุราพันธ์', '_', 'รมว.', 'สาธารณสุข', '_', 'แถลง', 'ถึง', 'การ', 'จัด', 'งาน', 'มหกรรม', 'กิน', 'ไก่', 'ไทย', 'ปลอด', 'ภัย', '_', '100', '%', '_', 'ว่า', '_', 'รัฐบาล', 'ร่วม', 'กับ', 'กทม.', 'จัด', 'งาน', 'ดัง', 'กล่าว', 'ขึ้น', 'ที่', 'ท้องสนามหลวง', 'ใน', 'วัน', 'เสาร์', 'ที่', '_', '7', '_', 'ก.พ.', 'นี้', '_', 'ตั้งแต่', '_', '16.00', 'น.', 'เป็นต้นไป', '_', 'ส่วน', 'พ.ต.ท.', 'ทักษิณ', '_', 'ชินวัตร', 'รัฐมนตรี', '_', 'จะ', 'เดินทาง', 'มา', 'ถึง', 'ที่', 'งาน', 'ใน', 'เวลา', '_', '16.30', 'น.', '_', 'เพื่อ', 'เยี่ยมชม', 'นิทรรศการ', '_', 'และ', 'ประกอบ', 'อาหาร', 'เมนู', '_', '-UNK-', 'ไก่', '-UNK-', 'สุก', '_', 'ไก่', 'ทอด', '_', 'ด้วย', 'ตัว', 'เอง', 'และ', 'แจกจ่าย', 'ให้', 'กับ', 'ประชาชน', '_', 'โดย', 'จะ', 'มี', 'นาย', 'สมัคร', '_', 'สุนทรเวช', '_', 'ผู้', 'ว่า', 'ฯ', 'กทม.', '_', 'และ', 'ม.ล.', '-UNK-', '_', 'สวัสดิวัฒน์', '_', 'หรือ', '-UNK-', '_', 'ร่วม', 'ปรุง', 'อาหาร', 'ด้วย', '_', 'ภาย', 'หลัง', 'ที่', 'นายก', 'ฯ', 'ปรุง', 'อาหาร', 'เสร็จ', 'จะ', 'ร่วม', 'รับประทาน', 'อาหาร', 'กับ', 'ประชาชน', '_', 'และ', 'เดิน', 'ทักทาย', 'เพื่อ', 'ให้', 'กำลังใจ', 'กับ', 'ผู้', 'ประกอบ', 'การ', 'ตาม']\n",
            "['B_TTL', 'B_PER', 'I_PER', 'E_PER', 'O', 'B_DES', 'B_ORG', 'O', 'O', 'O', 'O', 'O', 'O', 'O', 'O', 'O', 'B_LOC', 'O', 'O', 'O', 'B_MEA', 'E_MEA', 'O', 'O', 'O', 'O', 'O', 'O', 'B_ORG', 'O', 'O', 'O', 'O', 'O', 'O', 'B_LOC', 'O', 'B_DTM', 'O', 'O', 'O', 'B_NUM', 'I_DTM', 'E_DTM', 'O', 'O', 'B_DTM', 'I_DTM', 'I_DTM', 'E_DTM', 'O', 'O', 'O', 'B_DES', 'B_PER', 'I_PER', 'E_PER', 'O', 'O', 'O', 'O', 'O', 'O', 'O', 'O', 'O', 'B_DTM', 'I_DTM', 'I_DTM', 'E_DTM', 'O', 'O', 'O', 'O', 'O', 'O', 'O', 'O', 'O', 'O', 'O', 'O', 'O', 'O', 'O', 'O', 'O', 'O', 'O', 'O', 'O', 'O', 'O', 'O', 'O', 'O', 'O', 'O', 'O', 'O', 'B_TTL', 'B_PER', 'I_PER', 'E_PER', 'O', 'B_DES', 'I_DES', 'I_DES', 'B_ORG', 'O', 'O', 'B_TTL', 'B_PER', 'I_PER', 'E_PER', 'O', 'O', 'O', 'O', 'O', 'O', 'O', 'O', 'O', 'O', 'O', 'O', 'O', 'O', 'O', 'O', 'O', 'O', 'O', 'O', 'O', 'O', 'O', 'O', 'O', 'O', 'O', 'O', 'O', 'O', 'O', 'O', 'O', 'O', 'O']\n"
          ]
        }
      ],
      "source": [
        "print(check_pred[0])\n",
        "print(submis[0])"
      ]
    }
  ],
  "metadata": {
    "accelerator": "GPU",
    "colab": {
      "collapsed_sections": [
        "cC-ZgjhbWIg5",
        "VvIpeLNZWw1y",
        "riH9Ym2VW1SA",
        "ePZR9u-QXISg"
      ],
      "name": "17_02_2022_Task3_By_Pgot.ipynb",
      "provenance": []
    },
    "kernelspec": {
      "display_name": "Python 3",
      "name": "python3"
    },
    "language_info": {
      "codemirror_mode": {
        "name": "ipython",
        "version": 3
      },
      "file_extension": ".py",
      "mimetype": "text/x-python",
      "name": "python",
      "nbconvert_exporter": "python",
      "pygments_lexer": "ipython3",
      "version": "3.8.10"
    }
  },
  "nbformat": 4,
  "nbformat_minor": 0
}
